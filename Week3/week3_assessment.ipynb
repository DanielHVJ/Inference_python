{
 "cells": [
  {
   "cell_type": "markdown",
   "metadata": {
    "colab_type": "text",
    "id": "6w1_Mo78NDof"
   },
   "source": [
    "## Creating confidence intervals in python\n",
    "In this assessment, you will look at data from a study on toddler sleep habits. \n",
    "\n",
    "The confidence intervals you create and the questions you answer in this Jupyter notebook will be used to answer questions in the following graded assignment."
   ]
  },
  {
   "cell_type": "code",
   "execution_count": 1,
   "metadata": {
    "colab": {},
    "colab_type": "code",
    "id": "YNKXymB_NDoh"
   },
   "outputs": [],
   "source": [
    "import numpy as np\n",
    "import pandas as pd\n",
    "from scipy.stats import t\n",
    "pd.set_option('display.max_columns', 30) # set so can see all columns of the DataFrame"
   ]
  },
  {
   "cell_type": "markdown",
   "metadata": {
    "colab_type": "text",
    "id": "HL4-ACl_NDol"
   },
   "source": [
    "Your goal is to analyse data which is the result of a study that examined\n",
    "differences in a number of sleep variables between napping and non-napping toddlers. Some of these\n",
    "sleep variables included: Bedtime (lights-off time in decimalized time), Night Sleep Onset Time (in\n",
    "decimalized time), Wake Time (sleep end time in decimalized time), Night Sleep Duration (interval\n",
    "between sleep onset and sleep end in minutes), and Total 24-Hour Sleep Duration (in minutes). Note:\n",
    "[Decimalized time](https://en.wikipedia.org/wiki/Decimal_time) is the representation of the time of day using units which are decimally related.   \n",
    "\n",
    "\n",
    "The 20 study participants were healthy, normally developing toddlers with no sleep or behavioral\n",
    "problems. These children were categorized as napping or non-napping based upon parental report of\n",
    "children’s habitual sleep patterns. Researchers then verified napping status with data from actigraphy (a\n",
    "non-invasive method of monitoring human rest/activity cycles by wearing of a sensor on the wrist) and\n",
    "sleep diaries during the 5 days before the study assessments were made.\n",
    "\n",
    "\n",
    "You are specifically interested in the results for the Bedtime, Night Sleep Duration, and Total 24-\n",
    "Hour Sleep Duration. "
   ]
  },
  {
   "cell_type": "markdown",
   "metadata": {
    "colab_type": "text",
    "id": "XHo6lLm_NDol"
   },
   "source": [
    "Reference: Akacem LD, Simpkin CT, Carskadon MA, Wright KP Jr, Jenni OG, Achermann P, et al. (2015) The Timing of the Circadian Clock and Sleep Differ between Napping and Non-Napping Toddlers. PLoS ONE 10(4): e0125181. https://doi.org/10.1371/journal.pone.0125181"
   ]
  },
  {
   "cell_type": "code",
   "execution_count": 2,
   "metadata": {
    "colab": {},
    "colab_type": "code",
    "id": "mBcxVw04NFW9"
   },
   "outputs": [],
   "source": [
    "# Import the data\n",
    "df = pd.read_csv(\"nap_no_nap.csv\")"
   ]
  },
  {
   "cell_type": "code",
   "execution_count": 26,
   "metadata": {
    "colab": {},
    "colab_type": "code",
    "id": "TYe8b7MoNDop"
   },
   "outputs": [
    {
     "name": "stdout",
     "output_type": "stream",
     "text": [
      "15 5\n"
     ]
    }
   ],
   "source": [
    "# First, look at the DataFrame to get a sense of the data\n",
    "n1 = df.loc[df.napping == 1].shape[0]\n",
    "n0 = df.loc[df.napping == 0].shape[0]\n",
    "print(n1, n0)"
   ]
  },
  {
   "cell_type": "markdown",
   "metadata": {
    "colab_type": "text",
    "id": "VfZxEx3gNDor"
   },
   "source": [
    "**Question**: What variable is used in the column 'napping' to indicate a toddler takes a nap?\n",
    "\n",
    "\n",
    "**Question**: What is the sample size $n$?"
   ]
  },
  {
   "cell_type": "markdown",
   "metadata": {
    "colab_type": "text",
    "id": "9djLvqwJNDos"
   },
   "source": [
    "## Hypothesis testing\n",
    "We will look at two hypothesis test, each with $\\alpha = .025$:  \n",
    "\n",
    "\n",
    "1. Is the average bedtime for toddlers who nap later than the average bedtime for toddlers who don't nap?\n",
    "\n",
    "\n",
    "$$H_0: \\mu_{nap}=\\mu_{no\\ nap}, \\ H_a:\\mu_{nap}>\\mu_{no\\ nap}$$\n",
    "Or equivalently:\n",
    "$$H_0: \\mu_{nap}-\\mu_{no\\ nap}=0, \\ H_a:\\mu_{nap}-\\mu_{no\\ nap}>0$$\n",
    "\n",
    "\n",
    "2. The average 24 h sleep duration (in minutes) for napping toddlers is different from toddlers who don't nap.\n",
    "\n",
    "\n",
    "$$H_0: \\mu_{nap}=\\mu_{no\\ nap}, \\ H_a:\\mu_{nap}\\neq\\mu_{no\\ nap}$$\n",
    "Or equivalenty:\n",
    "$$H_0: \\mu_{nap}-\\mu_{no\\ nap}=0, \\ H_a:\\mu_{nap}-\\mu_{no\\ nap} \\neq 0$$\n",
    "\n",
    "Aside: This $\\alpha$ level is equivalent to $\\alpha = .05$ and then applying the [Bonferonni correction](https://en.wikipedia.org/wiki/Bonferroni_correction)."
   ]
  },
  {
   "cell_type": "markdown",
   "metadata": {
    "colab_type": "text",
    "id": "WprO1i-ONDot"
   },
   "source": [
    "Before any analysis, we will convert 'night bedtime' into decimalized time. "
   ]
  },
  {
   "cell_type": "code",
   "execution_count": 6,
   "metadata": {
    "colab": {},
    "colab_type": "code",
    "id": "KReCXeO_NDou"
   },
   "outputs": [],
   "source": [
    "# Convert 'night bedtime' into decimalized time\n",
    "df.loc[:,'night bedtime'] = np.floor(df['night bedtime'])*60 + np.round(df['night bedtime']%1,2 )*100"
   ]
  },
  {
   "cell_type": "markdown",
   "metadata": {
    "colab_type": "text",
    "id": "VJyTAzZcNDox"
   },
   "source": [
    "Now, isolate the column 'night bedtime' for those who nap into a new variable, and those who didn't nap into another new variable. "
   ]
  },
  {
   "cell_type": "code",
   "execution_count": 10,
   "metadata": {
    "colab": {},
    "colab_type": "code",
    "id": "5gZyghIbNDoy"
   },
   "outputs": [],
   "source": [
    "nap_bedtime = df.loc[df.napping == 1, 'night bedtime']"
   ]
  },
  {
   "cell_type": "code",
   "execution_count": 11,
   "metadata": {
    "colab": {},
    "colab_type": "code",
    "id": "yoX2nh1RNDo0"
   },
   "outputs": [],
   "source": [
    "no_nap_bedtime = df.loc[df.napping == 0, 'night bedtime']"
   ]
  },
  {
   "cell_type": "markdown",
   "metadata": {
    "colab_type": "text",
    "id": "ZEqxhPObNDo3"
   },
   "source": [
    "Now find the sample mean bedtime for nap and no_nap."
   ]
  },
  {
   "cell_type": "code",
   "execution_count": 12,
   "metadata": {
    "colab": {},
    "colab_type": "code",
    "id": "ySJiflu5NDo5"
   },
   "outputs": [],
   "source": [
    "nap_mean_bedtime = nap_bedtime.mean()"
   ]
  },
  {
   "cell_type": "code",
   "execution_count": 13,
   "metadata": {
    "colab": {},
    "colab_type": "code",
    "id": "IV2eUZAtNDo9"
   },
   "outputs": [],
   "source": [
    "no_nap_mean_bedtime = no_nap_bedtime.mean()"
   ]
  },
  {
   "cell_type": "markdown",
   "metadata": {
    "colab_type": "text",
    "id": "LFCWELIDNDo-"
   },
   "source": [
    "**Question**: What is the sample difference of mean bedtime for nappers minus no nappers?"
   ]
  },
  {
   "cell_type": "code",
   "execution_count": 15,
   "metadata": {},
   "outputs": [
    {
     "data": {
      "text/plain": [
       "42.066666666666606"
      ]
     },
     "execution_count": 15,
     "metadata": {},
     "output_type": "execute_result"
    }
   ],
   "source": [
    "nap_mean_bedtime - no_nap_mean_bedtime"
   ]
  },
  {
   "cell_type": "markdown",
   "metadata": {
    "colab_type": "text",
    "id": "qm-fIbluNDpA"
   },
   "source": [
    "Now find the sample standard deviation for $X_{nap}$ and $X_{no\\ nap}$."
   ]
  },
  {
   "cell_type": "code",
   "execution_count": 14,
   "metadata": {},
   "outputs": [
    {
     "data": {
      "text/html": [
       "<div>\n",
       "<style scoped>\n",
       "    .dataframe tbody tr th:only-of-type {\n",
       "        vertical-align: middle;\n",
       "    }\n",
       "\n",
       "    .dataframe tbody tr th {\n",
       "        vertical-align: top;\n",
       "    }\n",
       "\n",
       "    .dataframe thead tr th {\n",
       "        text-align: left;\n",
       "    }\n",
       "\n",
       "    .dataframe thead tr:last-of-type th {\n",
       "        text-align: right;\n",
       "    }\n",
       "</style>\n",
       "<table border=\"1\" class=\"dataframe\">\n",
       "  <thead>\n",
       "    <tr>\n",
       "      <th></th>\n",
       "      <th colspan=\"3\" halign=\"left\">night bedtime</th>\n",
       "    </tr>\n",
       "    <tr>\n",
       "      <th></th>\n",
       "      <th>mean</th>\n",
       "      <th>std</th>\n",
       "      <th>size</th>\n",
       "    </tr>\n",
       "    <tr>\n",
       "      <th>napping</th>\n",
       "      <th></th>\n",
       "      <th></th>\n",
       "      <th></th>\n",
       "    </tr>\n",
       "  </thead>\n",
       "  <tbody>\n",
       "    <tr>\n",
       "      <th>0</th>\n",
       "      <td>1191.000000</td>\n",
       "      <td>34.300146</td>\n",
       "      <td>5.0</td>\n",
       "    </tr>\n",
       "    <tr>\n",
       "      <th>1</th>\n",
       "      <td>1233.066667</td>\n",
       "      <td>34.445540</td>\n",
       "      <td>15.0</td>\n",
       "    </tr>\n",
       "  </tbody>\n",
       "</table>\n",
       "</div>"
      ],
      "text/plain": [
       "        night bedtime                 \n",
       "                 mean        std  size\n",
       "napping                               \n",
       "0         1191.000000  34.300146   5.0\n",
       "1         1233.066667  34.445540  15.0"
      ]
     },
     "execution_count": 14,
     "metadata": {},
     "output_type": "execute_result"
    }
   ],
   "source": [
    "df.groupby(\"napping\").agg({\"night bedtime\": [np.mean, np.std, np.size]})"
   ]
  },
  {
   "cell_type": "code",
   "execution_count": 28,
   "metadata": {
    "colab": {},
    "colab_type": "code",
    "id": "G5X_l8-qNDpA"
   },
   "outputs": [],
   "source": [
    "nap_s_bedtime = 34.445540"
   ]
  },
  {
   "cell_type": "code",
   "execution_count": 29,
   "metadata": {
    "colab": {},
    "colab_type": "code",
    "id": "2Y29xWT5NDpD"
   },
   "outputs": [],
   "source": [
    "no_nap_s_bedtime = 34.300146"
   ]
  },
  {
   "cell_type": "markdown",
   "metadata": {
    "colab_type": "text",
    "id": "zikRy_GINDpF"
   },
   "source": [
    "**Question**: What is the s.e.$(\\bar{X}_{nap} - \\bar{X}_{no\\ nap})$?\n",
    "\n",
    "We expect the variance in sleep time for toddlers who nap and toddlers who don't nap to be the same. So we use a pooled standard error.\n",
    "\n",
    "Calculate the pooled standard error of $\\bar{X}_{nap} - \\bar{X}_{no\\ nap}$ using the formula below.\n",
    "\n",
    "$s.e.(\\bar{X}_{nap} - \\bar{X}_{no\\ nap}) = \\sqrt{\\frac{(n_1-1)s_1^2 + (n_2-1)s_2^2}{n_1+n_2-2}(\\frac{1}{n_1}+\\frac{1}{n_2})}$"
   ]
  },
  {
   "cell_type": "code",
   "execution_count": 43,
   "metadata": {
    "colab": {},
    "colab_type": "code",
    "id": "KZUAaqFYNDpF"
   },
   "outputs": [
    {
     "data": {
      "text/plain": [
       "17.770943085488433"
      ]
     },
     "execution_count": 43,
     "metadata": {},
     "output_type": "execute_result"
    }
   ],
   "source": [
    "pooled_se = np.sqrt(((((n1-1)*(nap_s_bedtime**2))+((n0-1)*(no_nap_s_bedtime**2)))/(n0 + n1 -2))*(1/n1 + 1/n0)) \n",
    "pooled_se"
   ]
  },
  {
   "cell_type": "markdown",
   "metadata": {
    "colab_type": "text",
    "id": "63-jF9fmNDpI"
   },
   "source": [
    "**Question**: Given our sample size of $n$, how many degrees of freedom ($df$) are there for the associated $t$ distribution?"
   ]
  },
  {
   "cell_type": "markdown",
   "metadata": {
    "colab_type": "text",
    "id": "S3DC4b-iNDpI"
   },
   "source": [
    "Now calculate the $t$-test statistic for our first hypothesis test using  \n",
    "* pooled s.e.($\\bar{X}_{nap} - \\bar{X}_{no\\ nap}$)  \n",
    "* $\\bar{X}_{nap} - \\bar{X}_{no\\ nap}$  \n",
    "* $\\mu_{0,\\ nap} - \\mu_{0,\\ no\\ nap}=0$, the population difference in means under the null hypothesis"
   ]
  },
  {
   "cell_type": "code",
   "execution_count": 44,
   "metadata": {},
   "outputs": [
    {
     "data": {
      "text/plain": [
       "2.367160058096062"
      ]
     },
     "execution_count": 44,
     "metadata": {},
     "output_type": "execute_result"
    }
   ],
   "source": [
    "test_stat = (nap_mean_bedtime - no_nap_mean_bedtime) / pooled_se\n",
    "test_stat\n",
    "\n",
    "\n",
    "#pvalue = 2*dist.norm.cdf(-np.abs(test_stat))"
   ]
  },
  {
   "cell_type": "markdown",
   "metadata": {
    "colab_type": "text",
    "id": "vpGx3jGXNDpJ"
   },
   "source": [
    "**Question**: What is the p-value for the first hypothesis test?"
   ]
  },
  {
   "cell_type": "markdown",
   "metadata": {
    "colab_type": "text",
    "id": "YSys0xG3NDpK"
   },
   "source": [
    "To find the p-value, we can use the function:\n",
    "```\n",
    "t.cdf(y, df)\n",
    "```\n",
    "Which for $X \\sim t(df)$ returns $P(X \\leq y)$.\n",
    "\n",
    "Because of the symmetry of the $t$ distrubution, we have that \n",
    "```\n",
    "1-t.cdf(y, df)\n",
    "```\n",
    "returns $P(X > y)$\n",
    "\n",
    "The function t.cdf(y, df) will give you the same value as finding the one-tailed probability of y on a t-table with the specified degrees of freedom.\n",
    "\n",
    "Use the function t.cdf(y, df) to find the p-value for the first hypothesis test."
   ]
  },
  {
   "cell_type": "code",
   "execution_count": 46,
   "metadata": {
    "colab": {},
    "colab_type": "code",
    "id": "onJwGMApNDpM"
   },
   "outputs": [
    {
     "data": {
      "text/plain": [
       "0.01466745125057256"
      ]
     },
     "execution_count": 46,
     "metadata": {},
     "output_type": "execute_result"
    }
   ],
   "source": [
    "1-t.cdf(test_stat, 18)"
   ]
  },
  {
   "cell_type": "markdown",
   "metadata": {
    "colab_type": "text",
    "id": "ObOjGXrTNDpP"
   },
   "source": [
    "**Question**: What are the t-statistic and p-value for the second hypothesis test?\n",
    "\n",
    "Calculate the $t$ test statistics and corresponding p-value using the scipy function scipy.stats.ttest_ind(a, b, equal_var=True) and check with your answer. \n",
    "\n",
    "**Question**: Does scipy.stats.ttest_ind return values for a one-sided or two-sided test?\n",
    "\n",
    "**Question**: Can you think of a way to recover the results you got using 1-t.cdf from the p-value given by scipy.stats.ttest_ind?\n",
    "\n",
    "Use the scipy function scipy.stats.ttest_ind(a, b, equal_var=True) to find the $t$ test statistic and corresponding p-value for the second hypothesis test."
   ]
  },
  {
   "cell_type": "code",
   "execution_count": 55,
   "metadata": {
    "colab": {},
    "colab_type": "code",
    "id": "mOdFSpXoNDpQ"
   },
   "outputs": [
    {
     "name": "stdout",
     "output_type": "stream",
     "text": [
      "the p-value is different: 0.029 compared to  0.014\n"
     ]
    }
   ],
   "source": [
    "import scipy\n",
    "\n",
    "re = scipy.stats.ttest_ind(nap_bedtime, no_nap_bedtime, equal_var= True)\n",
    "\n",
    "print('the p-value is different:', 0.029, 'compared to ',0.014)\n",
    "re[1]"
   ]
  },
  {
   "cell_type": "markdown",
   "metadata": {},
   "source": [
    "Ttest_ind returns the values only for the two-sided test"
   ]
  },
  {
   "cell_type": "markdown",
   "metadata": {
    "colab_type": "text",
    "id": "ATF7D28TNDpW"
   },
   "source": [
    "**Question**: For the $\\alpha=.025$, do you reject or fail to reject the first hypothesis?\n",
    "\n",
    "**Question**: For the $\\alpha=.025$, do you reject or fail to reject the second hypothesis?"
   ]
  }
 ],
 "metadata": {
  "colab": {
   "collapsed_sections": [],
   "name": "Hypothesis testing assessment.ipynb",
   "provenance": [],
   "version": "0.3.2"
  },
  "kernelspec": {
   "display_name": "Python 3",
   "language": "python",
   "name": "python3"
  },
  "language_info": {
   "codemirror_mode": {
    "name": "ipython",
    "version": 3
   },
   "file_extension": ".py",
   "mimetype": "text/x-python",
   "name": "python",
   "nbconvert_exporter": "python",
   "pygments_lexer": "ipython3",
   "version": "3.6.3"
  }
 },
 "nbformat": 4,
 "nbformat_minor": 1
}
