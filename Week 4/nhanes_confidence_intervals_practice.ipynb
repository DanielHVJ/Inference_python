{
 "cells": [
  {
   "cell_type": "markdown",
   "metadata": {},
   "source": [
    "# Practice notebook for confidence intervals using NHANES data\n",
    "\n",
    "This notebook will give you the opportunity to practice working with confidence intervals using the NHANES data.\n",
    "\n",
    "You can enter your code into the cells that say \"enter your code here\", and you can type responses to the questions into the cells that say \"Type Markdown and Latex\".\n",
    "\n",
    "Note that most of the code that you will need to write below is very similar to code that appears in the case study notebook.  You will need to edit code from that notebook in small ways to adapt it to the prompts below.\n",
    "\n",
    "To get started, we will use the same module imports and read the data in the same way as we did in the case study:"
   ]
  },
  {
   "cell_type": "code",
   "execution_count": 1,
   "metadata": {},
   "outputs": [],
   "source": [
    "%matplotlib inline\n",
    "import matplotlib.pyplot as plt\n",
    "import pandas as pd\n",
    "import numpy as np\n",
    "import seaborn as sns\n",
    "import statsmodels.api as sm\n",
    "\n",
    "da = pd.read_csv(\"nhanes_2015_2016.csv\")"
   ]
  },
  {
   "cell_type": "markdown",
   "metadata": {},
   "source": [
    "## Question 1\n",
    "\n",
    "Restrict the sample to women between 35 and 50, then use the marital status variable [DMDMARTL](https://wwwn.cdc.gov/Nchs/Nhanes/2015-2016/DEMO_I.htm#DMDMARTL) to partition this sample into two groups - women who are currently married, and women who are not currently married.  Within each of these groups, calculate the proportion of women who have completed college.  Calculate 95% confidence intervals for each of these proportions."
   ]
  },
  {
   "cell_type": "code",
   "execution_count": 23,
   "metadata": {
    "scrolled": true
   },
   "outputs": [
    {
     "name": "stdout",
     "output_type": "stream",
     "text": [
      "Proportions \n",
      " 0.0549645390070922 0.2872340425531915\n",
      "Desviations \n",
      " 0.021353460173059922 0.02125281330918436\n"
     ]
    }
   ],
   "source": [
    "da[\"RIAGENDRx\"] = da.RIAGENDR.replace({1: \"Male\", 2: \"Female\"})\n",
    "dx = da.loc[(da.RIAGENDRx == 'Female') & (da.RIDAGEYR >= 35) & (da.RIDAGEYR <= 50), :]\n",
    "dx['Marr'] = da.DMDMARTL.replace({1: \"Married\", 5: \"Non Married\"})\n",
    "\n",
    "dx.head()\n",
    "dd = dx[[\"RIAGENDRx\", \"Marr\", 'DMDEDUC2']].dropna() \n",
    "dd.head()\n",
    "\n",
    "nm = dd.loc[(dd.Marr == 'Married')].shape[0]\n",
    "nn = dd.loc[(dd.Marr == 'Non Married')].shape[0]\n",
    "scm = dd.loc[(dd.Marr == 'Married') & (dd.DMDEDUC2 == 5)].shape[0]/(nn+nm)\n",
    "scnn = dd.loc[(dd.Marr == 'Non Married') & (dd.DMDEDUC2 == 5)].shape[0]/(nn+nm)\n",
    "print('Proportions \\n', scnn, scm)\n",
    "\n",
    "se_nm = np.sqrt(scm * (1 - scm) / nm)\n",
    "se_nmn = np.sqrt(scnn * (1 - scnn) / nn)\n",
    "print('Desviations \\n', se_nm, se_nmn)"
   ]
  },
  {
   "cell_type": "code",
   "execution_count": 24,
   "metadata": {},
   "outputs": [
    {
     "name": "stdout",
     "output_type": "stream",
     "text": [
      "Married CI 0.24538126061399407 0.32908682449238896\n",
      "Non Married CI 0.013309024921090852 0.09662005309309354\n"
     ]
    }
   ],
   "source": [
    "lcm = scm - 1.96 * np.sqrt(scm * (1 - scm)/ nm)  \n",
    "ucm = scm + 1.96 * np.sqrt(scm * (1 - scm) / nm) \n",
    "print('Married CI', lcm, ucm)\n",
    "\n",
    "lcn = scnn - 1.96 * np.sqrt(scnn * (1 - scnn) / nn)  \n",
    "ucn = scnn + 1.96 * np.sqrt(scnn * (1 - scnn) / nn) \n",
    "print('Non Married CI', lcn, ucn)"
   ]
  },
  {
   "cell_type": "markdown",
   "metadata": {},
   "source": [
    "__Q1a.__ Identify which of the two confidence intervals is wider, and explain why this is the case. "
   ]
  },
  {
   "cell_type": "markdown",
   "metadata": {},
   "source": []
  },
  {
   "cell_type": "markdown",
   "metadata": {},
   "source": [
    "__Q1b.__ Write 1-2 sentences summarizing these findings for an audience that does not know what a confidence interval is (the goal here is to report the substance of what you learned about how marital status and educational attainment are related, not to teach a person what a confidence interval is)."
   ]
  },
  {
   "cell_type": "markdown",
   "metadata": {},
   "source": []
  },
  {
   "cell_type": "markdown",
   "metadata": {},
   "source": [
    "## Question 2\n",
    "\n",
    "Construct a 95% confidence interval for the proportion of smokers who are female. Construct a 95% confidence interval for the proportion of smokers who are male. Construct a 95% confidence interval for the **difference** between those two gender proportions."
   ]
  },
  {
   "cell_type": "code",
   "execution_count": 31,
   "metadata": {},
   "outputs": [
    {
     "name": "stdout",
     "output_type": "stream",
     "text": [
      "Married CI 0.49458714955108174 0.5301605088261957\n",
      "Non Married CI 0.288294683866098 0.32139576027925865\n",
      "Differences among genders \n",
      " 0.18295327887682067 0.2338728044024504\n"
     ]
    }
   ],
   "source": [
    "da[\"SMQ020x\"] = da.SMQ020.replace({1: \"Yes\", 2: \"No\", 7: np.nan, 9: np.nan})  # np.nan represents a missing value\n",
    "da[\"RIAGENDRx\"] = da.RIAGENDR.replace({1: \"Male\", 2: \"Female\"})\n",
    "\n",
    "dx = da[[\"SMQ020x\", \"RIAGENDRx\"]].dropna()  # dropna drops cases where either variable is missing\n",
    "pd.crosstab(dx.SMQ020x, dx.RIAGENDRx, margins=True)\n",
    "ms = 1413/2753\n",
    "fs = 906/2972\n",
    "\n",
    "lcm = ms - 1.96 * np.sqrt(ms * (1 - ms)/ 2753)  \n",
    "ucm = ms + 1.96 * np.sqrt(scm * (1 - scm) / 2753) \n",
    "print('Married CI', lcm, ucm)\n",
    "\n",
    "lcf = fs - 1.96 * np.sqrt(fs * (1 - fs) / 2972)  \n",
    "ucf = fs + 1.96 * np.sqrt(fs * (1 - fs) / 2972) \n",
    "print('Non Married CI', lcf, ucf)\n",
    "\n",
    "sem = np.sqrt(ms * (1 - ms)/ 2753)\n",
    "sef = np.sqrt(fs * (1 - fs) / 2972) \n",
    "\n",
    "se_diff = np.sqrt(sem**2 + sef**2)\n",
    "se_diff\n",
    "\n",
    "d = ms - fs # diffe entre proporciones\n",
    "lcb = d - 2 * se_diff\n",
    "ucb = d + 2 * se_diff\n",
    "print('Differences among genders \\n',lcb, ucb)\n"
   ]
  },
  {
   "cell_type": "markdown",
   "metadata": {},
   "source": [
    "__Q2a.__ Why might it be relevant to report the separate gender proportions **and** the difference between the gender proportions?"
   ]
  },
  {
   "cell_type": "markdown",
   "metadata": {},
   "source": []
  },
  {
   "cell_type": "markdown",
   "metadata": {},
   "source": [
    "__Q2b.__ How does the **width** of the confidence interval for the difference between the gender proportions compare to the widths of the confidence intervals for the separate gender proportions?"
   ]
  },
  {
   "cell_type": "markdown",
   "metadata": {},
   "source": []
  },
  {
   "cell_type": "markdown",
   "metadata": {},
   "source": [
    "## Question 3\n",
    "\n",
    "Construct a 95% interval for height ([BMXHT](https://wwwn.cdc.gov/Nchs/Nhanes/2015-2016/BMX_I.htm#BMXHT)) in centimeters.  Then convert height from centimeters to inches by dividing by 2.54, and construct a 95% confidence interval for height in inches.  Finally, convert the endpoints (the lower and upper confidence limits) of the confidence interval from inches to back to centimeters   "
   ]
  },
  {
   "cell_type": "code",
   "execution_count": 39,
   "metadata": {},
   "outputs": [
    {
     "name": "stdout",
     "output_type": "stream",
     "text": [
      "Height by inches CI 0.6061280554989366 0.6312696643643372\n"
     ]
    }
   ],
   "source": [
    "da[\"BMXHT\"] = da.BMXHT/2.54 \n",
    "hm = da.BMXHT.mean()\n",
    "nh = len(da.BMXHT)\n",
    "\n",
    "lch = hm - 1.96 * np.sqrt(hm * (1 - hm)/ nh)  \n",
    "uch = hm + 1.96 * np.sqrt(hm * (1 - hm) / nh) \n",
    "print('Height by inches CI', lch, uch)"
   ]
  },
  {
   "cell_type": "markdown",
   "metadata": {},
   "source": [
    "__Q3a.__ Describe how the confidence interval constructed in centimeters relates to the confidence interval constructed in inches."
   ]
  },
  {
   "cell_type": "markdown",
   "metadata": {},
   "source": []
  },
  {
   "cell_type": "code",
   "execution_count": null,
   "metadata": {},
   "outputs": [],
   "source": [
    "da.BMXBMI"
   ]
  },
  {
   "cell_type": "markdown",
   "metadata": {},
   "source": [
    "## Question 4\n",
    "\n",
    "Partition the sample based on 10-year age bands, i.e. the resulting groups will consist of people with ages from 18-28, 29-38, etc. Construct 95% confidence intervals for the difference between the mean BMI for females and for males within each age band."
   ]
  },
  {
   "cell_type": "code",
   "execution_count": 53,
   "metadata": {},
   "outputs": [
    {
     "name": "stdout",
     "output_type": "stream",
     "text": [
      "             Female       Male\n",
      "agegrp                        \n",
      "(18, 28]  28.019433  27.058186\n",
      "(28, 38]  29.943443  29.697180\n",
      "(38, 48]  31.003733  29.514646\n",
      "(48, 58]  30.787361  29.385132\n",
      "(58, 68]  31.054664  29.232462\n",
      "(68, 78]  30.537818  28.720270\n",
      "(78, 88]  27.850000  27.464368\n",
      "          Female   Male\n",
      "agegrp                 \n",
      "(18, 28]   498.0  458.0\n",
      "(28, 38]   494.0  467.0\n",
      "(38, 48]   514.0  398.0\n",
      "(48, 58]   454.0  419.0\n",
      "(58, 68]   466.0  470.0\n",
      "(68, 78]   279.0  307.0\n",
      "(78, 88]   201.0  177.0\n",
      "            Female      Male\n",
      "agegrp                      \n",
      "(18, 28]  8.040703  6.672122\n",
      "(28, 38]  7.950938  6.719391\n",
      "(38, 48]  8.036736  6.097237\n",
      "(48, 58]  7.639107  6.144153\n",
      "(58, 68]  7.771060  5.952529\n",
      "(68, 78]  6.768249  5.327630\n",
      "(78, 88]  5.469915  4.682137\n",
      "            Female      Male\n",
      "agegrp                      \n",
      "(18, 28]  1.255581  1.264346\n",
      "(28, 38]  1.347219  1.374222\n",
      "(38, 48]  1.367516  1.479436\n",
      "(48, 58]  1.444922  1.435558\n",
      "(58, 68]  1.438580  1.348393\n",
      "(68, 78]  1.828251  1.639152\n",
      "(78, 88]  1.964388  2.064348\n",
      "agegrp\n",
      "(18, 28]    1.781868\n",
      "(28, 38]    1.924444\n",
      "(38, 48]    2.014654\n",
      "(48, 58]    2.036818\n",
      "(58, 68]    1.971719\n",
      "(68, 78]    2.455468\n",
      "(78, 88]    2.849623\n",
      "dtype: float64\n"
     ]
    }
   ],
   "source": [
    "# Calculate the smoking rates within age/gender groups\n",
    "da[\"agegrp\"] = pd.cut(da.RIDAGEYR, [18, 28, 38, 48, 58, 68, 78, 88])\n",
    "pr = da.groupby([\"agegrp\", \"RIAGENDRx\"]).agg({\"BMXBMI\": lambda x: np.mean(x)}).unstack()\n",
    "pr.columns = [\"Female\", \"Male\"]\n",
    "print(pr)\n",
    "\n",
    "# The number of people for each calculated proportion\n",
    "dn = da.groupby([\"agegrp\", \"RIAGENDRx\"]).agg({\"BMXBMI\": np.size}).unstack()\n",
    "dn.columns = [\"Female\", \"Male\"]\n",
    "print(dn)\n",
    "\n",
    "# Standard errors for each proportion\n",
    "prse = da.groupby([\"agegrp\", \"RIAGENDRx\"]).agg({\"BMXBMI\": lambda x: np.std(x)}).unstack()\n",
    "prse.columns = [\"Female\", \"Male\"]\n",
    "print(prse)\n",
    "\n",
    "se = pr/np.sqrt(dn)\n",
    "print(se)\n",
    "\n",
    "# Standard error for the difference in female/male smoking rates in every age band\n",
    "se_diff = np.sqrt(se.Female**2 + se.Male**2)\n",
    "print(se_diff)\n",
    "# Standard errors for the difference in smoking rates between genders, within age bands"
   ]
  },
  {
   "cell_type": "code",
   "execution_count": 54,
   "metadata": {},
   "outputs": [
    {
     "data": {
      "text/plain": [
       "Text(0,0.5,'Female - male smoking proportion')"
      ]
     },
     "execution_count": 54,
     "metadata": {},
     "output_type": "execute_result"
    },
    {
     "data": {
      "image/png": "[encoded data removed]",
      "text/plain": [
       "<Figure size 432x288 with 1 Axes>"
      ]
     },
     "metadata": {},
     "output_type": "display_data"
    }
   ],
   "source": [
    "pq = pr.Female - pr.Male\n",
    "\n",
    "x = np.arange(pq.size)\n",
    "pp = sns.pointplot(x, pq.values, color='black')\n",
    "sns.pointplot(x, pq - 2*se_diff)\n",
    "sns.pointplot(x, pq + 2*se_diff)\n",
    "pp.set_xticklabels(pq.index)\n",
    "pp.set_xlabel(\"Age group\")\n",
    "pp.set_ylabel(\"Female - male smoking proportion\")"
   ]
  },
  {
   "cell_type": "markdown",
   "metadata": {},
   "source": [
    "__Q4a.__ How do the widths of these confidence intervals differ?  Provide an explanation for any substantial diferences in the confidence interval widths that you see."
   ]
  },
  {
   "cell_type": "markdown",
   "metadata": {},
   "source": [
    "## Question 5\n",
    "\n",
    "Construct a 95% confidence interval for the first and second systolic blood pressure measures, and for the difference between the first and second systolic blood pressure measurements within a subject."
   ]
  },
  {
   "cell_type": "code",
   "execution_count": null,
   "metadata": {},
   "outputs": [],
   "source": [
    "# enter code here"
   ]
  },
  {
   "cell_type": "markdown",
   "metadata": {},
   "source": [
    "__Q5a.__ Based on these confidence intervals, would you say that a difference of zero between the population mean values of the first and second systolic blood pressure measures is consistent with the data?"
   ]
  },
  {
   "cell_type": "markdown",
   "metadata": {},
   "source": []
  },
  {
   "cell_type": "markdown",
   "metadata": {},
   "source": [
    "__Q5b.__ Discuss how the width of the confidence interval for the within-subject difference compares to the widths of the confidence intervals for the first and second measures."
   ]
  },
  {
   "cell_type": "markdown",
   "metadata": {},
   "source": []
  },
  {
   "cell_type": "markdown",
   "metadata": {},
   "source": [
    "## Question 6\n",
    "\n",
    "Construct a 95% confidence interval for the mean difference between the average age of a smoker, and the average age of a non-smoker."
   ]
  },
  {
   "cell_type": "code",
   "execution_count": 71,
   "metadata": {},
   "outputs": [
    {
     "name": "stdout",
     "output_type": "stream",
     "text": [
      "          RIDAGEYR                 \n",
      "              mean        std  size\n",
      "SMQ020x                            \n",
      "No       45.259836  18.543286  3406\n",
      "Yes      52.096593  17.461141  2319\n",
      "0.3625716684294791 0.3176781961181817\n"
     ]
    },
    {
     "data": {
      "text/plain": [
       "<statsmodels.stats.weightstats.CompareMeans at 0x7f503f25f0f0>"
      ]
     },
     "execution_count": 71,
     "metadata": {},
     "output_type": "execute_result"
    }
   ],
   "source": [
    "print(da.groupby(\"SMQ020x\").agg({\"RIDAGEYR\": [np.mean, np.std, np.size]}))\n",
    "\n",
    "sq = 17.46 / np.sqrt(2319)\n",
    "ns = 18.54 / np.sqrt(3406)\n",
    "print(sq, ns)\n",
    "\n",
    "sem_diff = np.sqrt(sq**2 + ns**2)\n",
    "sem_diff\n",
    "\n",
    "ds = da.loc[da.SMQ020x=='Yes', \"RIDAGEYR\"]\n",
    "dn = da.loc[da.SMQ020x=='No', \"RIDAGEYR\"]\n",
    "\n",
    "sm.stats.CompareMeans.from_data(ds, dn)"
   ]
  },
  {
   "cell_type": "markdown",
   "metadata": {},
   "source": [
    "__Q6a.__ Use graphical and numerical techniques to compare the variation in the ages of smokers to the variation in the ages of non-smokers.  "
   ]
  },
  {
   "cell_type": "code",
   "execution_count": 1,
   "metadata": {},
   "outputs": [],
   "source": [
    "# insert your code here"
   ]
  },
  {
   "cell_type": "markdown",
   "metadata": {},
   "source": [
    "__Q6b.__ Does it appear that uncertainty about the mean age of smokers, or uncertainty about the mean age of non-smokers contributed more to the uncertainty for the mean difference that we are focusing on here?"
   ]
  },
  {
   "cell_type": "markdown",
   "metadata": {},
   "source": []
  }
 ],
 "metadata": {
  "kernelspec": {
   "display_name": "Python 3",
   "language": "python",
   "name": "python3"
  },
  "language_info": {
   "codemirror_mode": {
    "name": "ipython",
    "version": 3
   },
   "file_extension": ".py",
   "mimetype": "text/x-python",
   "name": "python",
   "nbconvert_exporter": "python",
   "pygments_lexer": "ipython3",
   "version": "3.6.3"
  }
 },
 "nbformat": 4,
 "nbformat_minor": 2
}
